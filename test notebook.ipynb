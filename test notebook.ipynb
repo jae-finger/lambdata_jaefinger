{
 "cells": [
  {
   "cell_type": "code",
   "execution_count": 1,
   "metadata": {},
   "outputs": [
    {
     "name": "stdout",
     "output_type": "stream",
     "text": [
      "Looking in indexes: https://test.pypi.org/simple/\n",
      "Requirement already satisfied: lambdata-jaefinger in /opt/anaconda3/lib/python3.7/site-packages (2.1)\n",
      "Note: you may need to restart the kernel to use updated packages.\n"
     ]
    }
   ],
   "source": [
    "pip install -i https://test.pypi.org/simple/ lambdata-jaefinger"
   ]
  },
  {
   "cell_type": "code",
   "execution_count": 2,
   "metadata": {},
   "outputs": [],
   "source": [
    "from my_lambdata.my_mod import null_test\n",
    "from my_lambdata.my_mod import add_a_col\n",
    "import pandas"
   ]
  },
  {
   "cell_type": "code",
   "execution_count": 3,
   "metadata": {},
   "outputs": [
    {
     "name": "stdout",
     "output_type": "stream",
     "text": [
      "   a  b    y\n",
      "0  0  3  100\n",
      "1  1  4   10\n",
      "2  2  5  100\n",
      "3  3  6    5\n",
      "4  4  7    0\n",
      "5  5  8   50\n",
      "6  6  9   10\n",
      "Converted list to series\n",
      "Converted series to dataframe\n",
      "   a  b    y  new_col\n",
      "0  0  3  100      4.0\n",
      "1  1  4   10      3.0\n",
      "2  2  5  100      2.0\n",
      "3  3  6    5      0.0\n",
      "4  4  7    0      1.0\n",
      "5  5  8   50      2.0\n",
      "6  6  9   10      NaN\n"
     ]
    }
   ],
   "source": [
    "#Try out the add a col function\n",
    "df = pandas.DataFrame({\"a\" : [0, 1, 2, 3, 4, 5, 6,], \"b\" : [3, 4, 5, 6, 7, 8, 9], \"y\" : [100, 10, 100, 5, 0, 50, 10]})\n",
    "print(df)\n",
    "my_list = [4, 3, 2, 0, 1, 2]\n",
    "add_a_col(my_list, df)\n",
    "print(df)"
   ]
  },
  {
   "cell_type": "code",
   "execution_count": 4,
   "metadata": {},
   "outputs": [
    {
     "name": "stdout",
     "output_type": "stream",
     "text": [
      "Here is a list of columns and the number of missing values:\n",
      "a          0\n",
      "b          0\n",
      "y          0\n",
      "new_col    1\n",
      "dtype: int64\n"
     ]
    }
   ],
   "source": [
    "#Utilize the null_test function\n",
    "null_test(df)\n"
   ]
  }
 ],
 "metadata": {
  "kernelspec": {
   "display_name": "Python 3",
   "language": "python",
   "name": "python3"
  },
  "language_info": {
   "codemirror_mode": {
    "name": "ipython",
    "version": 3
   },
   "file_extension": ".py",
   "mimetype": "text/x-python",
   "name": "python",
   "nbconvert_exporter": "python",
   "pygments_lexer": "ipython3",
   "version": "3.7.4"
  }
 },
 "nbformat": 4,
 "nbformat_minor": 2
}
